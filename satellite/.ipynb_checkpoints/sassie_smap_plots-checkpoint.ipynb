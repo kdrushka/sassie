{
 "cells": [
  {
   "cell_type": "markdown",
   "id": "1ce12a2c-631e-4143-a9b7-56707972d436",
   "metadata": {},
   "source": [
    "# For a given day, download and plot SMAP L2 and L3 fields in the Beaufort Sea\n",
    "\n",
    "Uses cloud datasets - currently written to run on a local machine (and download files to local) but could be easily adapted to run on the cloud\n",
    "\n",
    "k.drushka // March 2022"
   ]
  },
  {
   "cell_type": "code",
   "execution_count": 2,
   "id": "a1b0ddf5-d94b-4b24-b442-ae7803e84021",
   "metadata": {},
   "outputs": [],
   "source": [
    "# imports\n",
    "import os\n",
    "import requests\n",
    "import numpy as np\n",
    "# import pandas as pd\n",
    "import xarray as xr\n",
    "import matplotlib.pyplot as plt\n",
    "from pathlib import Path\n",
    "import glob as glob\n",
    "\n",
    "# from datetime import datetime\n",
    "\n",
    "# plotting packages\n",
    "import cartopy\n",
    "import cartopy.crs as ccrs\n",
    "import matplotlib.pyplot as plt\n",
    "import matplotlib.cm as cm\n",
    "import matplotlib.ticker as mticker\n",
    "\n",
    "\n",
    "\n",
    "# cloud stuff - ignore for now for working locally\n",
    "# import s3fs"
   ]
  }
 ],
 "metadata": {
  "kernelspec": {
   "display_name": "Python 3",
   "language": "python",
   "name": "python3"
  },
  "language_info": {
   "codemirror_mode": {
    "name": "ipython",
    "version": 3
   },
   "file_extension": ".py",
   "mimetype": "text/x-python",
   "name": "python",
   "nbconvert_exporter": "python",
   "pygments_lexer": "ipython3",
   "version": "3.9.10"
  }
 },
 "nbformat": 4,
 "nbformat_minor": 5
}
