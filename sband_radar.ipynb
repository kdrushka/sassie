{
 "cells": [
  {
   "cell_type": "code",
   "execution_count": null,
   "id": "c9c2fcec-6cbe-4608-b39f-001b4589274a",
   "metadata": {},
   "outputs": [],
   "source": [
    "# use the gdal env, which runs pythin 3.8"
   ]
  },
  {
   "cell_type": "code",
   "execution_count": 2,
   "id": "698d98a1-2e29-48f5-a4ef-a82349e6b3de",
   "metadata": {},
   "outputs": [],
   "source": [
    "# MIGHT NOT NEED ALL OF THESE\n",
    "\n",
    "# Native packages\n",
    "from math import radians, degrees, sin, cos, asin, acos, sqrt\n",
    "import datetime\n",
    "import time\n",
    "import sys\n",
    "import os\n",
    "from pathlib import Path \n",
    "import glob\n",
    "\n",
    "import json\n",
    "            \n",
    "import warnings\n",
    "\n",
    "# Third-party packages for data manipulation\n",
    "import numpy as np\n",
    "import pandas as pd\n",
    "import xarray as xr\n",
    "\n",
    "import dateutil.parser\n",
    "\n",
    "# Third-party packages for data interpolation\n",
    "from scipy import interpolate\n",
    "\n",
    "\n",
    "\n",
    "from osgeo import gdal\n",
    "\n",
    "# Third-party packages for data visualizations\n",
    "import matplotlib.pyplot as plt\n",
    "import matplotlib.ticker as mticker\n",
    "import matplotlib\n",
    "import cartopy\n",
    "import cartopy.crs as ccrs\n",
    "import cartopy.feature as cfeature\n",
    "from cartopy.mpl.gridliner import LONGITUDE_FORMATTER, LATITUDE_FORMATTER"
   ]
  },
  {
   "cell_type": "code",
   "execution_count": 7,
   "id": "23976b6b-caf2-41fb-9aa1-b16a805b58f3",
   "metadata": {},
   "outputs": [],
   "source": [
    "# load the TIFF\n",
    "\n",
    "ddir = '/Users/kdrushka/data/SASSIE/'\n",
    "fn = ddir + 'test_tiff.tif'"
   ]
  },
  {
   "cell_type": "code",
   "execution_count": 34,
   "id": "95e7276b-5bb5-4276-aaea-eb0c570b5e05",
   "metadata": {},
   "outputs": [
    {
     "ename": "AttributeError",
     "evalue": "'NoneType' object has no attribute 'GetMetadata'",
     "output_type": "error",
     "traceback": [
      "\u001b[0;31m---------------------------------------------------------------------------\u001b[0m",
      "\u001b[0;31mAttributeError\u001b[0m                            Traceback (most recent call last)",
      "Cell \u001b[0;32mIn[34], line 8\u001b[0m\n\u001b[1;32m      4\u001b[0m ds \u001b[38;5;241m=\u001b[39m gdal\u001b[38;5;241m.\u001b[39mOpen(file)\n\u001b[1;32m      6\u001b[0m \u001b[38;5;28;01mfor\u001b[39;00m band \u001b[38;5;129;01min\u001b[39;00m \u001b[38;5;28mrange\u001b[39m(ds\u001b[38;5;241m.\u001b[39mRasterCount):\n\u001b[0;32m----> 8\u001b[0m     meta \u001b[38;5;241m=\u001b[39m \u001b[43mds\u001b[49m\u001b[38;5;241;43m.\u001b[39;49m\u001b[43mGetRasterBand\u001b[49m\u001b[43m(\u001b[49m\u001b[43mband\u001b[49m\u001b[43m)\u001b[49m\u001b[38;5;241;43m.\u001b[39;49m\u001b[43mGetMetadata\u001b[49m()\n\u001b[1;32m     11\u001b[0m band \u001b[38;5;241m=\u001b[39m ds\u001b[38;5;241m.\u001b[39mGetRasterBand(\u001b[38;5;241m1\u001b[39m)\n\u001b[1;32m     12\u001b[0m arr \u001b[38;5;241m=\u001b[39m band\u001b[38;5;241m.\u001b[39mReadAsArray()\n",
      "\u001b[0;31mAttributeError\u001b[0m: 'NoneType' object has no attribute 'GetMetadata'"
     ]
    }
   ],
   "source": [
    "\n",
    "gdal.AllRegister()\n",
    "\n",
    "file = fn\n",
    "ds = gdal.Open(file)\n",
    "\n",
    "for band in range(ds.RasterCount):\n",
    "\n",
    "    meta = ds.GetRasterBand(band).GetMetadata()\n",
    "    \n",
    "    \n",
    "band = ds.GetRasterBand(1)\n",
    "arr = band.ReadAsArray()\n",
    "[rows, cols] = arr.shape\n",
    "arr_min = arr.min()\n",
    "arr_max = arr.max()\n",
    "arr_mean = int(arr.mean())\n",
    "arr_out = arr;\n",
    "# arr_out = np.where((arr < arr_mean), 10000, arr)\n",
    "driver = gdal.GetDriverByName(\"GTiff\")\n",
    "outdata = driver.Create(outFileName, cols, rows, 1, gdal.GDT_UInt16, ['COMPRESS=LZW'])\n",
    "\n",
    "# gdal.SetConfigOption('COMPRESS_OVERVIEW', 'DEFLATE')\n",
    "# outdata.BuildOverviews(\"AVERAGE\", [2,4,8,16,32,64, 128, 256])\n",
    "\n",
    "outdata.SetGeoTransform(ds.GetGeoTransform())##sets same geotransform as input\n",
    "outdata.SetProjection(ds.GetProjection())##sets same projection as input\n",
    "outdata.GetRasterBand(1).WriteArray(arr_out)\n",
    "outdata.GetRasterBand(1).SetNoDataValue(10000)##if you want these values transparent\n",
    "outdata.FlushCache() ##saves to disk!!\n",
    "outdata = None\n",
    "band=None\n",
    "ds=None\n",
    "\n"
   ]
  },
  {
   "cell_type": "code",
   "execution_count": 61,
   "id": "82cd09cc-9867-41fd-b339-d8bf51111b19",
   "metadata": {},
   "outputs": [
    {
     "ename": "NameError",
     "evalue": "name 'Dataset' is not defined",
     "output_type": "error",
     "traceback": [
      "\u001b[0;31m---------------------------------------------------------------------------\u001b[0m",
      "\u001b[0;31mNameError\u001b[0m                                 Traceback (most recent call last)",
      "Cell \u001b[0;32mIn[61], line 146\u001b[0m\n\u001b[1;32m    143\u001b[0m     ncdf\u001b[38;5;241m.\u001b[39mclose()    \n\u001b[1;32m    145\u001b[0m \u001b[38;5;28;01mif\u001b[39;00m \u001b[38;5;18m__name__\u001b[39m \u001b[38;5;241m==\u001b[39m \u001b[38;5;124m'\u001b[39m\u001b[38;5;124m__main__\u001b[39m\u001b[38;5;124m'\u001b[39m:\n\u001b[0;32m--> 146\u001b[0m     \u001b[43mmain\u001b[49m\u001b[43m(\u001b[49m\u001b[43m)\u001b[49m\n",
      "Cell \u001b[0;32mIn[61], line 56\u001b[0m, in \u001b[0;36mmain\u001b[0;34m()\u001b[0m\n\u001b[1;32m     54\u001b[0m \u001b[38;5;28;01mdef\u001b[39;00m \u001b[38;5;21mmain\u001b[39m():\n\u001b[1;32m     55\u001b[0m     \u001b[38;5;66;03m# this segment opens the netcdf file and reads its variables.\u001b[39;00m\n\u001b[0;32m---> 56\u001b[0m     ncdf \u001b[38;5;241m=\u001b[39m \u001b[43mDataset\u001b[49m(input_mascon_file, mode\u001b[38;5;241m=\u001b[39m\u001b[38;5;124m'\u001b[39m\u001b[38;5;124mr\u001b[39m\u001b[38;5;124m'\u001b[39m)\n\u001b[1;32m     58\u001b[0m     input_time \u001b[38;5;241m=\u001b[39m ncdf\u001b[38;5;241m.\u001b[39mvariables[\u001b[38;5;124m'\u001b[39m\u001b[38;5;124mtime\u001b[39m\u001b[38;5;124m'\u001b[39m][:]\n\u001b[1;32m     59\u001b[0m     lat \u001b[38;5;241m=\u001b[39m ncdf\u001b[38;5;241m.\u001b[39mvariables[\u001b[38;5;124m'\u001b[39m\u001b[38;5;124mlat\u001b[39m\u001b[38;5;124m'\u001b[39m][:]\n",
      "\u001b[0;31mNameError\u001b[0m: name 'Dataset' is not defined"
     ]
    }
   ],
   "source": [
    "output_geotiff_path = Path() / 'output'\n",
    "output_geotiff_path.mkdir(parents=True, exist_ok=True)\n",
    "\n",
    "def gtiff_write(grid_data, data_res, output_geotiff_file, lat_bound_max, lon_bound_min):\n",
    "    gdal_driver = gdal.GetDriverByName('GTiff')\n",
    "\n",
    "    gtiff_name = str(output_geotiff_file)\n",
    "    gtiff_out = gdal_driver.Create(gtiff_name, grid_data.shape[1], grid_data.shape[0], 1, gdal.GDT_Float32)\n",
    "\n",
    "    out_geotransform = [lon_bound_min, data_res, 0, lat_bound_max, 0, -1*data_res]\n",
    "    gtiff_out.SetGeoTransform(out_geotransform)\n",
    "    \n",
    "    out_wkt = osr.SpatialReference()\n",
    "    out_wkt.ImportFromEPSG(4326)\n",
    "    out_proj_wkt = out_wkt.ExportToWkt()\n",
    "    gtiff_out.SetProjection(out_proj_wkt)\n",
    "    \n",
    "    gtiff_band_out = gtiff_out.GetRasterBand(1)\n",
    "    gtiff_band_out.SetNoDataValue(-99999)\n",
    "    gtiff_band_out.WriteArray(grid_data)\n",
    "\n",
    "    gtiff_out = None\n",
    "    gtiff_band_out = None\n",
    "\n",
    "\n",
    "def gtiff_set_metadata(output_geotiff_file, ncdf, current_month_start_date, current_month_end_date, lon):\n",
    "    attr_list = ncdf.ncattrs()\n",
    "    attr_to_exclude = [\n",
    "        'time_coverage_start',\n",
    "        'time_coverage_end', \n",
    "        'geospatial_lon_min', \n",
    "        'geospatial_lon_max', \n",
    "        'date_created', \n",
    "        'months_missing'\n",
    "    ]\n",
    "\n",
    "    gtiff_name = str(output_geotiff_file)\n",
    "    ras = gdal.Open(gtiff_name, gdal.GA_Update)\n",
    "\n",
    "    for attr_name in attr_list:\n",
    "        if attr_name not in attr_to_exclude: \n",
    "            ras.SetMetadataItem(attr_name, str(ncdf.getncattr(attr_name)))\n",
    "    \n",
    "    ras.SetMetadataItem('time_coverage_start', current_month_start_date)\n",
    "    ras.SetMetadataItem('time_coverage_end', current_month_end_date)\n",
    "    ras.SetMetadataItem('geospatial_lon_min', str(np.min(lon)))\n",
    "    ras.SetMetadataItem('geospatial_lon_max', str(np.max(lon)))\n",
    "    \n",
    "    now = datetime.datetime.now()\n",
    "    ras.SetMetadataItem('date_created', now.strftime(\"%Y-%m-%dT%H:%M:%S\"))\n",
    "    \n",
    "    ras = None\n",
    "\n",
    "def main():\n",
    "    # this segment opens the netcdf file and reads its variables.\n",
    "    ncdf = Dataset(input_mascon_file, mode='r')\n",
    "\n",
    "    input_time = ncdf.variables['time'][:]\n",
    "    lat = ncdf.variables['lat'][:]\n",
    "    lon = ncdf.variables['lon'][:]\n",
    "    lon_bounds= ncdf.variables['lon_bounds'][:]\n",
    "    lat_bounds= ncdf.variables['lat_bounds'][:]\n",
    "    input_lwe_thickness = ncdf.variables['lwe_thickness'][:] #time lat lon\n",
    "    input_uncertainty = ncdf.variables['uncertainty'][:]\n",
    "\n",
    "    timex`_bounds = ncdf.variables['time_bounds'][:]\n",
    "    dtime = num2date(time_bounds[:], ncdf.variables['time_bounds'].units)\n",
    "\n",
    "    # initialize the arrays of same size as input dataset\n",
    "    grid_lwe = input_lwe_thickness * 0\n",
    "    grid_uncertainty = input_uncertainty * 0\n",
    "    timesize = len(input_time)\n",
    "\n",
    "    data_res  = abs(lon[2 ] - lon[1]) #resolution of dataset\n",
    "    indexes_to_shift=int(360 / (2 * data_res)) # no of global longitude divided by degree resolution; /2 gives mid point around which shift is done.\n",
    "\n",
    "    #detremine if grid is south to north then flip the array else not \n",
    "    flip_lat = lat[0] < lat[-1]\n",
    "\n",
    "    #detremine if longitudes starts at 0 and goes to n then circshift or roll the grid and longitude array  \n",
    "    shift_lon = np.max(lon) > 180\n",
    "\n",
    "    #this loop arrange dataset in 90 to -90 latitude and -180 to 180 longitude orientation and writes monthly geotiffs; \n",
    "    #works on array in the order: time*lat*lon ; \n",
    "    if input_lwe_thickness.shape == (len(input_time), len(lat), len(lon)):\n",
    "        for time_index in range(0,timesize):\n",
    "            temp_lwe = input_lwe_thickness[time_index,:,:]\n",
    "            temp_uncertainty = input_uncertainty[time_index,:,:]\n",
    "            \n",
    "            # mascon netcdf contains grid : 0 to 359 longitudes and -90 to 90 degree latitudes. following lines sets the grid as 180 to -180 longitude and 90 to -90 latitude to be written into geotif \n",
    "            if flip_lat:\n",
    "                temp_1a = np.flipud(temp_lwe)\n",
    "                temp_1a_uncert = np.flipud(temp_uncertainty)\n",
    "            else:\n",
    "                temp_1a = temp_lwe\n",
    "                temp_1a_uncert = temp_uncertainty\n",
    "    \n",
    "            if shift_lon:\n",
    "                temp_1a = np.roll(temp_1a, indexes_to_shift, axis =1)\n",
    "                temp_1a_uncert = np.roll(temp_1a_uncert, indexes_to_shift,axis =1)\n",
    "                # arrange longitudes into -180 to 180 orientation \n",
    "                lon[np.where(lon>180)] = lon[np.where(lon > 180)] - indexes_to_shift\n",
    "                lon = np.roll(lon, indexes_to_shift, axis=0)\n",
    "                lon_bounds[np.where(lon_bounds >= 180)] = lon_bounds[np.where(lon_bounds >= 180)] - indexes_to_shift\n",
    "                lon_bounds = np.roll(lon_bounds, indexes_to_shift, axis=0)\n",
    "            \n",
    "            grid_lwe[time_index,:,:] = temp_1a\n",
    "            grid_uncertainty[time_index,:,:] = temp_1a_uncert\n",
    "            lat_bound_max = np.max(lat_bounds)\n",
    "            lon_bound_min = np.min(lon_bounds)\n",
    "                    \n",
    "            #determine the start and end period for each monthly timestep and use it in geotiff output filenames \n",
    "            start_year = dtime[time_index,0].year\n",
    "            end_year = dtime[time_index,1].year\n",
    "            \n",
    "            start_day_of_year = dtime[time_index,0].timetuple().tm_yday\n",
    "            end_day_of_year = dtime[time_index,1].timetuple().tm_yday\n",
    "            \n",
    "            start_timestring = str(start_year)  + (\"%03d\" %(start_day_of_year,))\n",
    "            end_timestring = str(end_year)  + (\"%03d\" %(end_day_of_year,)) \n",
    "            \n",
    "            current_month_start_date = dtime[time_index,0].strftime(\"%Y-%m-%dT%H:%M:%S\")\n",
    "            current_month_end_date = dtime[time_index,1].strftime(\"%Y-%m-%dT%H:%M:%S\")\n",
    "            \n",
    "            #generate lwe_thickness tiff file \n",
    "            output_geotiff_file = 'mascon_lwe_thickness_' + start_timestring + '_' + end_timestring +  '.tif'\n",
    "            output_geotiff_file = output_geotiff_path / output_geotiff_file\n",
    "\n",
    "            # create geotiff\n",
    "            gtiff_write(grid_lwe[time_index, :, :], data_res, output_geotiff_file, lat_bound_max, lon_bound_min)\n",
    "            gtiff_set_metadata(output_geotiff_file, ncdf, current_month_start_date, current_month_end_date,lon)\n",
    "\n",
    "            output_geotiff_uncert_file = 'mascon_uncertainty_' + start_timestring + '_' + end_timestring +  '.tif'\n",
    "            output_geotiff_uncert_file = output_geotiff_path / output_geotiff_uncert_file\n",
    "\n",
    "            # create geotiff\n",
    "            gtiff_write(grid_uncertainty[time_index,:,:], data_res, output_geotiff_uncert_file, lat_bound_max, lon_bound_min)\n",
    "            gtiff_set_metadata(output_geotiff_uncert_file, ncdf, current_month_start_date, current_month_end_date,lon)\n",
    "    \n",
    "    else:\n",
    "        print('Array Dimensions Not in Desired Order; Time * Lat * Lon expected') \n",
    "\n",
    "    ncdf.close()    \n",
    "\n",
    "if __name__ == '__main__':\n",
    "    main()"
   ]
  },
  {
   "cell_type": "code",
   "execution_count": null,
   "id": "9d43edd2-ee18-48bd-8057-b455c58e0cd0",
   "metadata": {},
   "outputs": [],
   "source": []
  },
  {
   "cell_type": "code",
   "execution_count": null,
   "id": "89f8aea5-b940-4eb0-8bdd-8bf279294a99",
   "metadata": {},
   "outputs": [],
   "source": []
  },
  {
   "cell_type": "code",
   "execution_count": null,
   "id": "d528b9ca-5356-4989-85df-a31b0bb3c376",
   "metadata": {},
   "outputs": [],
   "source": []
  },
  {
   "cell_type": "code",
   "execution_count": null,
   "id": "8abd750a-2f5f-48d3-8ccd-632c8a2fcee2",
   "metadata": {},
   "outputs": [],
   "source": []
  },
  {
   "cell_type": "code",
   "execution_count": null,
   "id": "988cc837-50f1-4279-adea-91b636137a34",
   "metadata": {},
   "outputs": [],
   "source": []
  },
  {
   "cell_type": "code",
   "execution_count": null,
   "id": "66048f14-834f-4e20-85f4-f5ab3ad52550",
   "metadata": {},
   "outputs": [],
   "source": []
  },
  {
   "cell_type": "code",
   "execution_count": 35,
   "id": "40c8e8b1-ca9f-4299-b53e-d1b8a988034e",
   "metadata": {},
   "outputs": [],
   "source": [
    "gdal.AllRegister()\n",
    "\n",
    "file = fn\n",
    "ds = gdal.Open(file)\n"
   ]
  },
  {
   "cell_type": "code",
   "execution_count": 53,
   "id": "0df0c474-0160-421b-a7c0-7c12fc6851f3",
   "metadata": {},
   "outputs": [
    {
     "data": {
      "text/plain": [
       "(-150.25230984855727,\n",
       " 3.3602116322382764e-05,\n",
       " 0.0,\n",
       " 73.09632984863774,\n",
       " 0.0,\n",
       " -3.3602116322382764e-05)"
      ]
     },
     "execution_count": 53,
     "metadata": {},
     "output_type": "execute_result"
    }
   ],
   "source": [
    "ds.GetGeoTransform()"
   ]
  },
  {
   "cell_type": "code",
   "execution_count": 54,
   "id": "5a4b4b51-30dc-4b0b-b719-0d6510dbab06",
   "metadata": {},
   "outputs": [
    {
     "data": {
      "text/plain": [
       "'GEOGCS[\"WGS 84\",DATUM[\"WGS_1984\",SPHEROID[\"WGS 84\",6378137,298.257223563,AUTHORITY[\"EPSG\",\"7030\"]],AUTHORITY[\"EPSG\",\"6326\"]],PRIMEM[\"Greenwich\",0],UNIT[\"degree\",0.0174532925199433,AUTHORITY[\"EPSG\",\"9122\"]],AXIS[\"Latitude\",NORTH],AXIS[\"Longitude\",EAST],AUTHORITY[\"EPSG\",\"4326\"]]'"
      ]
     },
     "execution_count": 54,
     "metadata": {},
     "output_type": "execute_result"
    }
   ],
   "source": [
    "ds.GetProjection()"
   ]
  },
  {
   "cell_type": "code",
   "execution_count": 55,
   "id": "4be6476e-fb48-4cd2-b8ae-39306c070a41",
   "metadata": {},
   "outputs": [
    {
     "data": {
      "text/plain": [
       "3"
      ]
     },
     "execution_count": 55,
     "metadata": {},
     "output_type": "execute_result"
    }
   ],
   "source": [
    "ds.RasterCount"
   ]
  },
  {
   "cell_type": "code",
   "execution_count": 57,
   "id": "55a848e3-083f-41db-a8ff-ad27389c9171",
   "metadata": {},
   "outputs": [],
   "source": [
    "band = ds.GetRasterBand(1)"
   ]
  },
  {
   "cell_type": "code",
   "execution_count": 59,
   "id": "1107e447-083f-49ee-9fc5-e69d6aa7af3a",
   "metadata": {},
   "outputs": [
    {
     "data": {
      "text/plain": [
       "991"
      ]
     },
     "execution_count": 59,
     "metadata": {},
     "output_type": "execute_result"
    }
   ],
   "source": [
    "band.XSize"
   ]
  },
  {
   "cell_type": "code",
   "execution_count": 60,
   "id": "59835f85-ae72-4f27-9686-906762e45a69",
   "metadata": {},
   "outputs": [],
   "source": [
    "band.GetNoDataValue()"
   ]
  },
  {
   "cell_type": "code",
   "execution_count": null,
   "id": "23b9b715-4d7d-4e2c-bb34-3bc90a75250a",
   "metadata": {},
   "outputs": [],
   "source": []
  }
 ],
 "metadata": {
  "kernelspec": {
   "display_name": "Python 3 (ipykernel)",
   "language": "python",
   "name": "python3"
  },
  "language_info": {
   "codemirror_mode": {
    "name": "ipython",
    "version": 3
   },
   "file_extension": ".py",
   "mimetype": "text/x-python",
   "name": "python",
   "nbconvert_exporter": "python",
   "pygments_lexer": "ipython3",
   "version": "3.10.8"
  }
 },
 "nbformat": 4,
 "nbformat_minor": 5
}
