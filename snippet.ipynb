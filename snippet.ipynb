{
 "cells": [
  {
   "cell_type": "code",
   "execution_count": null,
   "id": "d2d80e67-dfdc-4cd1-8d2e-5df07d166a2e",
   "metadata": {},
   "outputs": [],
   "source": [
    "# regridding SIC - doesn't work\n",
    "\n",
    "\n",
    "\n",
    "# x=ds['xgrid']*10**(-3)\n",
    "# y=ds['ygrid']*10**(-3)\n",
    "# [X,Y]=np.meshgrid(x,y)\n",
    "# sic=ds['seaice_conc_cdr'] \n",
    "# ratio=25/resolution\n",
    "# true_scale_lat = 70\n",
    "# re = 6378.273\n",
    "# e = 0.081816153\n",
    "# delta=45\n",
    "# xgrid=np.linspace(x[0],x[-1],int((len(x)-1)*ratio+1))\n",
    "# ygrid=np.linspace(y[0],y[-1],int((len(y)-1)*ratio+1))\n",
    "# [Xgrid,Ygrid]=np.meshgrid(xgrid,ygrid)\n",
    "# [LOgrid,LAgrid]=nsidc.polar_xy_to_lonlat(Xgrid,Ygrid,true_scale_lat,re,e,1)\n",
    "# LOgrid = LOgrid - delta\n",
    "# LOgrid = LOgrid + np.less(LOgrid, 0)*360\n",
    "# LOgrid[np.where(LOgrid>=180)]=LOgrid[np.where(LOgrid>=180)]-360\n",
    "    \n",
    "\n",
    "# # regrid the data at a higher resolution (ex 1km), and return the lat/lon of the 15% sea ice contour\n",
    "# resolution = 1 # km\n",
    "\n",
    "# # [LA, LO,  ttime, llistvar, llistunit] = read_sic_nsidc(filename)\n",
    "\n",
    "\n",
    "# # sic_grid = griddata(( np.reshape(X,(np.prod(X.shape))),np.reshape(Y,(np.prod(Y.shape)))), \n",
    "# #                     np.reshape(sic,(np.prod(sic.shape))), (Xgrid, Ygrid), method='linear')\n",
    "\n",
    "    \n",
    "# #     cc2=plt.contour(xgrid,ygrid,sic_grid*100,levels=15,colors='m',linewidths=3)\n",
    "# #     dat0=cc2.allsegs\n",
    "# #     lon_sie=[]\n",
    "# #     lat_sie=[]\n",
    "# #     for i in range(0,len(dat0[0])):\n",
    "# #         [lon,lat]=nsidc.polar_xy_to_lonlat(dat0[0][i][:,0],dat0[0][i][:,1],true_scale_lat,re,e,1)\n",
    "# #         lon = lon - delta\n",
    "# #         lon = lon + numpy.less(lon, 0)*360\n",
    "# #         lon[numpy.where(lon>=180)]=lon[numpy.where(lon>=180)]-360\n",
    "# #         lon_sie=numpy.hstack((lon_sie,lon))\n",
    "# #         lat_sie=numpy.hstack((lat_sie,lat))\n",
    "# #     plt.close('all')\n",
    "    \n",
    "# #     return lon_sie,lat_sie\n",
    "    \n",
    "\n",
    "    \n",
    "    "
   ]
  },
  {
   "cell_type": "code",
   "execution_count": null,
   "id": "5282d888-4a67-4eb4-95b0-99cfc1294edc",
   "metadata": {},
   "outputs": [],
   "source": [
    "# SIC version 4\n",
    "# doesn't work\n",
    "true_scale_lat = ds.projection.standard_parallel\n",
    "re = ds.projection.semimajor_radius/1000 # convert to km (?)\n",
    "e = 0.081816153 # ?????\n",
    "delta = ds.projection.longitude_of_projection_origin\n",
    "\n",
    "# import numpy as np\n",
    "\n",
    "[Xgrid,Ygrid]=np.meshgrid(ds.xgrid.data,ds.ygrid.data)\n",
    "[LOgrid,LAgrid]=nsidc.polar_xy_to_lonlat(Xgrid,Ygrid,true_scale_lat,re,e,1)\n",
    "LOgrid = LOgrid + delta\n",
    "# LOgrid = LOgrid + np.less(LOgrid, 0)*360\n",
    "# LOgrid[np.where(LOgrid>=180)]=LOgrid[np.where(LOgrid>=180)]-360\n",
    "\n"
   ]
  }
 ],
 "metadata": {
  "kernelspec": {
   "display_name": "Python 3",
   "language": "python",
   "name": "python3"
  },
  "language_info": {
   "codemirror_mode": {
    "name": "ipython",
    "version": 3
   },
   "file_extension": ".py",
   "mimetype": "text/x-python",
   "name": "python",
   "nbconvert_exporter": "python",
   "pygments_lexer": "ipython3",
   "version": "3.9.2"
  }
 },
 "nbformat": 4,
 "nbformat_minor": 5
}
